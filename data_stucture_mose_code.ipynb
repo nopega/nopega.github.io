{
 "cells": [
  {
   "cell_type": "code",
   "execution_count": null,
   "metadata": {},
   "outputs": [],
   "source": [
    "class Node:\n",
    "    def __init__(self, value, left=None, right=None):\n",
    "        self.value = value\n",
    "        self.left = left\n",
    "        self.right = right\n",
    "    def chech_left(self):\n",
    "        print(self.left)\n",
    "    def chech_right(self):\n",
    "        print(self.right)"
   ]
  },
  {
   "cell_type": "code",
   "execution_count": null,
   "metadata": {},
   "outputs": [],
   "source": [
    "def getMorseCode(node, character, code):\n",
    "      if node==None:\n",
    "         return False\n",
    "      elif node.value==character:\n",
    "        print(node.value)\n",
    "        return True\n",
    "      else:  \n",
    "        if getMorseCode(node.left,character,code)==True:\n",
    "            code.insert(0,\".\")\n",
    "            print(node.value,\"left\")\n",
    "            return True\n",
    "        elif getMorseCode(node.right,character,code)==True:\n",
    "            code.insert(0,\"-\")\n",
    "            print(node.value,\"right\")\n",
    "            return True"
   ]
  },
  {
   "cell_type": "code",
   "execution_count": null,
   "metadata": {},
   "outputs": [],
   "source": [
    "tree = Node(\"START\")\n",
    "\n",
    "# 1st Level\n",
    "tree.left = Node(\"E\")\n",
    "tree.right = Node(\"T\")\n",
    "\n",
    "# 2nd Level\n",
    "tree.left.left = Node(\"I\")\n",
    "tree.left.right = Node(\"A\")\n",
    "tree.right.left = Node(\"N\")\n",
    "tree.right.right = Node(\"M\")\n",
    "\n",
    "# 3rd Level\n",
    "tree.left.left.left = Node(\"S\")\n",
    "tree.left.left.right = Node(\"U\")\n",
    "tree.left.right.left = Node(\"R\")\n",
    "tree.left.right.right = Node(\"W\")\n",
    "\n",
    "tree.right.left.left = Node(\"D\")\n",
    "tree.right.left.right = Node(\"K\")\n",
    "tree.right.right.left = Node(\"G\")\n",
    "tree.right.right.right = Node(\"O\")\n",
    "\n",
    "# 4th Level\n",
    "tree.left.left.left.left = Node(\"H\")\n",
    "tree.left.left.left.right = Node(\"V\")\n",
    "tree.left.left.right.left = Node(\"F\")\n",
    "tree.left.left.right.right = Node(\"\")\n",
    "tree.left.right.left.left = Node(\"L\")\n",
    "tree.left.right.left.right = Node(\"\")\n",
    "tree.left.right.right.left = Node(\"P\")\n",
    "tree.left.right.right.right = Node(\"J\")\n",
    "\n",
    "tree.right.left.left.left = Node(\"B\")\n",
    "tree.right.left.left.right = Node(\"X\")\n",
    "tree.right.left.right.left = Node(\"C\")\n",
    "tree.right.left.right.right = Node(\"Y\")\n",
    "tree.right.right.left.left = Node(\"Z\")\n",
    "tree.right.right.left.right = Node(\"Q\")\n",
    "tree.right.right.right.left = Node(\"\")\n",
    "tree.right.right.right.right = Node(\"\")\n",
    "\n",
    "# 5th Level\n",
    "tree.right.right.right.left.left = Node(\"0\")\n",
    "tree.right.right.right.left.right = Node(\"9\")\n",
    "tree.right.right.right.right.right = Node(\"8\")\n",
    "tree.right.right.left.left.right = Node(\"7\")\n",
    "tree.right.left.left.left.right = Node(\"6\")\n",
    "tree.left.right.right.right.left = Node(\"1\")\n",
    "tree.left.left.right.left.left = Node(\"2\")\n",
    "tree.left.left.left.right.left = Node(\"3\")\n",
    "tree.left.left.left.left.left = Node(\"4\")\n",
    "tree.left.left.left.left.right = Node(\"5\")"
   ]
  },
  {
   "cell_type": "code",
   "execution_count": null,
   "metadata": {},
   "outputs": [],
   "source": [
    "message = input().upper() #for big charecter\n",
    "morseCode = \"\""
   ]
  },
  {
   "cell_type": "code",
   "execution_count": null,
   "metadata": {},
   "outputs": [],
   "source": [
    "for character in message:\n",
    "    dotsdashes = []\n",
    "    getMorseCode(tree,character,dotsdashes)\n",
    "    print(\"---\")\n",
    "    print(character)\n",
    "    print(dotsdashes)\n",
    "    code = \"\".join(dotsdashes)\n",
    "    morseCode = morseCode + code + \" \"\n",
    "    print(\"+++++\")\n",
    "  \n",
    "print(morseCode)"
   ]
  }
 ],
 "metadata": {
  "language_info": {
   "name": "python"
  },
  "orig_nbformat": 4
 },
 "nbformat": 4,
 "nbformat_minor": 2
}
